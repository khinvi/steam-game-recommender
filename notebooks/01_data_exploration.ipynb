{
 "cells": [
  {
   "cell_type": "markdown",
   "metadata": {},
   "source": [
    "# Steam Game Recommender System - Data Exploration\n",
    "\n",
    "This notebook explores the Steam Video Game and Bundle Data from Professor Julian McAuley's research repository."
   ]
  },
  {
   "cell_type": "code",
   "execution_count": null,
   "metadata": {},
   "source": [
    "# Import necessary libraries\n",
    "import os\n",
    "import sys\n",
    "import numpy as np\n",
    "import pandas as pd\n",
    "import matplotlib.pyplot as plt\n",
    "import seaborn as sns\n",
    "\n",
    "# Add the project root directory to the Python path\n",
    "sys.path.append('..')\n",
    "\n",
    "# Import project modules\n",
    "from src.data.loader import load_steam_data, convert_to_dataframes, get_sample_data"
   ]
  },
  {
   "cell_type": "markdown",
   "metadata": {},
   "source": [
    "## 1. Load the Data\n",
    "\n",
    "First, we'll load the Steam dataset files. Make sure you've downloaded the data files and placed them in the `data` directory."
   ]
  },
  {
   "cell_type": "code",
   "execution_count": null,
   "metadata": {},
   "source": [
    "# Load the data\n",
    "data = load_steam_data()\n",
    "\n",
    "# Check if data was loaded successfully\n",
    "if not data:\n",
    "    print(\"Error loading data. Please make sure the data files are in the 'data' directory.\")\n",
    "else:\n",
    "    print(\"Data loaded successfully!\")\n",
    "    \n",
    "    # Print summary of loaded data\n",
    "    for key, value in data.items():\n",
    "        print(f\"{key}: {len(value)} records\")"
   ]
  },
  {
   "cell_type": "markdown",
   "metadata": {},
   "source": [
    "## 2. Convert to DataFrames\n",
    "\n",
    "Now, let's convert the loaded JSON data to pandas DataFrames for easier analysis."
   ]
  },
  {
   "cell_type": "code",
   "execution_count": null,
   "metadata": {},
   "source": [
    "# Convert to DataFrames\n",
    "dfs = convert_to_dataframes(data)\n",
    "\n",
    "# Check the DataFrames\n",
    "for key, df in dfs.items():\n",
    "    print(f\"\\n{key} DataFrame:\")\n",
    "    print(f\"Shape: {df.shape}\")\n",
    "    print(\"Columns:\")\n",
    "    print(df.columns.tolist())\n",
    "    print(\"Sample data:\")\n",
    "    display(df.head())"
   ]
  },
  {
   "cell_type": "markdown",
   "metadata": {},
   "source": [
    "## 3. Basic Statistics\n",
    "\n",
    "Let's look at some basic statistics of the dataset."
   ]
  },
  {
   "cell_type": "code",
   "execution_count": null,
   "metadata": {},
   "source": [
    "# Get a sample of the reviews data for quick analysis\n",
    "if 'reviews' in dfs:\n",
    "    reviews_sample = get_sample_data(dfs['reviews'])\n",
    "    \n",
    "    # Number of unique users and games\n",
    "    num_users = reviews_sample['user_id'].nunique()\n",
    "    num_games = reviews_sample['item_id'].nunique()\n",
    "    \n",
    "    print(f\"Number of unique users in sample: {num_users}\")\n",
    "    print(f\"Number of unique games in sample: {num_games}\")\n",
    "    \n",
    "    # Distribution of playtime (if available)\n",
    "    if 'playtime_forever' in reviews_sample.columns:\n",
    "        plt.figure(figsize=(10, 6))\n",
    "        reviews_sample['playtime_forever'].hist(bins=50)\n",
    "        plt.title('Distribution of Playtime')\n",
    "        plt.xlabel('Playtime (minutes)')\n",
    "        plt.ylabel('Frequency')\n",
    "        plt.xscale('log')  # Log scale for better visualization\n",
    "        plt.show()\n",
    "        \n",
    "        # Summary statistics of playtime\n",
    "        print(\"\\nPlaytime statistics (in minutes):\")\n",
    "        print(reviews_sample['playtime_forever'].describe())"
   ]
  },
  {
   "cell_type": "markdown",
   "metadata": {},
   "source": [
    "## 4. User-Game Interaction Analysis\n",
    "\n",
    "Let's analyze the user-game interactions."
   ]
  },
  {
   "cell_type": "code",
   "execution_count": null,
   "metadata": {},
   "source": [
    "if 'reviews' in dfs:\n",
    "    # Number of games per user\n",
    "    games_per_user = reviews_sample.groupby('user_id')['item_id'].count()\n",
    "    \n",
    "    plt.figure(figsize=(10, 6))\n",
    "    games_per_user.hist(bins=30)\n",
    "    plt.title('Distribution of Number of Games per User')\n",
    "    plt.xlabel('Number of Games')\n",
    "    plt.ylabel('Number of Users')\n",
    "    plt.show()\n",
    "    \n",
    "    print(\"\\nGames per user statistics:\")\n",
    "    print(games_per_user.describe())\n",
    "    \n",
    "    # Number of users per game\n",
    "    users_per_game = reviews_sample.groupby('item_id')['user_id'].count()\n",
    "    \n",
    "    plt.figure(figsize=(10, 6))\n",
    "    users_per_game.hist(bins=30)\n",
    "    plt.title('Distribution of Number of Users per Game')\n",
    "    plt.xlabel('Number of Users')\n",
    "    plt.ylabel('Number of Games')\n",
    "    plt.show()\n",
    "    \n",
    "    print(\"\\nUsers per game statistics:\")\n",
    "    print(users_per_game.describe())"
   ]
  },
  {
   "cell_type": "markdown",
   "metadata": {},
   "source": [
    "## 5. Game Metadata Analysis\n",
    "\n",
    "Let's analyze the game metadata if available."
   ]
  },
  {
   "cell_type": "code",
   "execution_count": null,
   "metadata": {},
   "source": [
    "if 'metadata' in dfs:\n",
    "    metadata_sample = get_sample_data(dfs['metadata'])\n",
    "    \n",
    "    # Check for genre information\n",
    "    if 'genre' in metadata_sample.columns:\n",
    "        # Count games by genre\n",
    "        genre_counts = {}\n",
    "        \n",
    "        for genre_list in metadata_sample['genre'].dropna():\n",
    "            genres = genre_list.split(', ')\n",
    "            for genre in genres:\n",
    "                if genre in genre_counts:\n",
    "                    genre_counts[genre] += 1\n",
    "                else:\n",
    "                    genre_counts[genre] = 1\n",
    "        \n",
    "        # Convert to DataFrame for plotting\n",
    "        genre_df = pd.DataFrame({'genre': list(genre_counts.keys()), 'count': list(genre_counts.values())})\n",
    "        genre_df = genre_df.sort_values('count', ascending=False).head(15)  # Top 15 genres\n",
    "        \n",
    "        plt.figure(figsize=(12, 6))\n",
    "        sns.barplot(x='count', y='genre', data=genre_df)\n",
    "        plt.title('Most Common Game Genres')\n",
    "        plt.xlabel('Number of Games')\n",
    "        plt.ylabel('Genre')\n",
    "        plt.show()"
   ]
  },
  {
   "cell_type": "markdown",
   "metadata": {},
   "source": [
    "## 6. Bundle Analysis\n",
    "\n",
    "Let's analyze the bundle data if available."
   ]
  },
  {
   "cell_type": "code",
   "execution_count": null,
   "metadata": {},
   "source": [
    "if 'bundles' in dfs:\n",
    "    # Distribution of bundle sizes\n",
    "    bundle_sizes = dfs['bundles'].groupby('bundle_id')['item_id'].count()\n",
    "    \n",
    "    plt.figure(figsize=(10, 6))\n",
    "    bundle_sizes.hist(bins=20)\n",
    "    plt.title('Distribution of Bundle Sizes')\n",
    "    plt.xlabel('Number of Games in Bundle')\n",
    "    plt.ylabel('Number of Bundles')\n",
    "    plt.show()\n",
    "    \n",
    "    print(\"\\nBundle size statistics:\")\n",
    "    print(bundle_sizes.describe())\n",
    "    \n",
    "    # Extract bundle discounts if available\n",
    "    if 'bundle_discount' in dfs['bundles'].columns:\n",
    "        # Convert discount percentages to numeric values\n",
    "        dfs['bundles']['discount_value'] = dfs['bundles']['bundle_discount'].str.rstrip('%').astype(float)\n",
    "        \n",
    "        plt.figure(figsize=(10, 6))\n",
    "        dfs['bundles']['discount_value'].hist(bins=20)\n",
    "        plt.title('Distribution of Bundle Discounts')\n",
    "        plt.xlabel('Discount Percentage')\n",
    "        plt.ylabel('Number of Bundles')\n",
    "        plt.show()"
   ]
  },
  {
   "cell_type": "markdown",
   "metadata": {},
   "source": [
    "## 7. Sparse Matrix Visualization\n",
    "\n",
    "Let's visualize the sparsity of the user-game interaction matrix."
   ]
  },
  {
   "cell_type": "code",
   "execution_count": null,
   "metadata": {},
   "source": [
    "if 'reviews' in dfs:\n",
    "    # Create a small user-game interaction matrix for visualization\n",
    "    small_sample = reviews_sample.sample(min(5000, len(reviews_sample)))\n",
    "    \n",
    "    # Get the top users and games by interaction count\n",
    "    top_users = small_sample['user_id'].value_counts().head(20).index\n",
    "    top_games = small_sample['item_id'].value_counts().head(20).index\n",
    "    \n",
    "    # Filter the sample to include only these top users and games\n",
    "    matrix_sample
